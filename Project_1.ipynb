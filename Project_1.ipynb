{
 "cells": [
  {
   "cell_type": "code",
   "execution_count": null,
   "metadata": {},
   "outputs": [],
   "source": [
    "# Dependencies\n",
    "import requests\n",
    "import json\n",
    "import os\n",
    "from dotenv import load_dotenv\n",
    "import pprint\n",
    "import pandas as pd\n",
    "\n",
    "# Load environment variables from .env file\n",
    "load_dotenv()\n",
    "\n",
    "# Access the API key\n",
    "api_key = os.getenv(\"API_KEY\")"
   ]
  },
  {
   "cell_type": "code",
   "execution_count": null,
   "metadata": {},
   "outputs": [],
   "source": [
    "# place the url\n",
    "url = \"https://v6.exchangerate-api.com/v6/\"\n",
    "\n",
    "# Specify the start date\n",
    "start_date = \"2008/1/1\"\n",
    "\n",
    "# Specify the end date\n",
    "end_date = \"2008/12/31\"\n",
    "\n",
    "# Construct the url\n",
    "response = requests.get(url + api_key + \"history/AUD/\" + start_date)\n",
    "\n",
    "response"
   ]
  },
  {
   "cell_type": "code",
   "execution_count": null,
   "metadata": {},
   "outputs": [],
   "source": [
    "# Construct the 2nd url\n",
    "response2 = requests.get(url + api_key + \"history/AUD/\" + end_date)\n",
    "\n",
    "response2"
   ]
  },
  {
   "cell_type": "code",
   "execution_count": null,
   "metadata": {},
   "outputs": [],
   "source": [
    "# Get the data into a JSON format\n",
    "data1 = response.json()\n",
    "data2 = response2.json()\n",
    "\n",
    "# Convert the dictionary to a dataframe\n",
    "df1 = pd.DataFrame(data1)\n",
    "df2 = pd.DataFrame(data2)\n",
    "\n",
    "# Make the index a column\n",
    "df1_reset = df1.reset_index()\n",
    "df2_reset = df2.reset_index()\n",
    "# Move the 'index' column to a specific position (8 is the column count)\n",
    "df1_reset.insert(8, 'QuoteCurrency', df1_reset['index'])\n",
    "df2_reset.insert(8, 'QuoteCurrency', df2_reset['index'])\n",
    "\n",
    "# Drop the old 'index' column\n",
    "df1_clean = df1_reset.drop(columns=['index', 'result', 'documentation', 'terms_of_use'])\n",
    "df2_clean = df2_reset.drop(columns=['index', 'result', 'documentation', 'terms_of_use'])\n",
    "\n",
    "# Concatenate DataFrames along rows\n",
    "combined_df = pd.concat([df1_clean, df2_clean], ignore_index=True)\n",
    "\n",
    "combined_df"
   ]
  },
  {
   "cell_type": "code",
   "execution_count": null,
   "metadata": {},
   "outputs": [],
   "source": [
    "# Filter the dataset for the start and end of the year\n",
    "start_of_year = combined_df[(combined_df['month'] == 1) & (combined_df['day'] == 1)]\n",
    "end_of_year = combined_df[(combined_df['month'] == 12) & (combined_df['day'] == 31)]\n",
    "\n",
    "# Merge the start and end of the year datasets on the relevant columns\n",
    "year_end_analysis = pd.merge(start_of_year, end_of_year, on=['year', 'base_code', 'QuoteCurrency'], suffixes=('_start', '_end'))\n",
    "\n",
    "# Calculate the percentage change in conversion rates\n",
    "year_end_analysis['percentage_change'] = ((year_end_analysis['conversion_rates_end'] - year_end_analysis['conversion_rates_start']) / year_end_analysis['conversion_rates_start']) * 100\n",
    "\n",
    "# Display the year-end analysis per currency pair\n",
    "year_end_analysis"
   ]
  }
 ],
 "metadata": {
  "kernelspec": {
   "display_name": "base",
   "language": "python",
   "name": "python3"
  },
  "language_info": {
   "codemirror_mode": {
    "name": "ipython",
    "version": 3
   },
   "file_extension": ".py",
   "mimetype": "text/x-python",
   "name": "python",
   "nbconvert_exporter": "python",
   "pygments_lexer": "ipython3",
   "version": "3.11.5"
  }
 },
 "nbformat": 4,
 "nbformat_minor": 2
}
