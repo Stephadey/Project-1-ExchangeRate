{
 "cells": [
  {
   "cell_type": "code",
   "execution_count": 1,
   "id": "52d2f298-a591-4013-b769-b258a1d35126",
   "metadata": {
    "tags": []
   },
   "outputs": [
    {
     "name": "stdout",
     "output_type": "stream",
     "text": [
      "           date      rate\n",
      "0    2023/01/01  0.680616\n",
      "1    2023/01/02  0.680714\n",
      "2    2023/01/03  0.676402\n",
      "3    2023/01/04  0.681486\n",
      "4    2023/01/05  0.681911\n",
      "..          ...       ...\n",
      "360  2023/12/27  0.683335\n",
      "361  2023/12/28  0.684343\n",
      "362  2023/12/29  0.682283\n",
      "363  2023/12/30  0.681110\n",
      "364  2023/12/31  0.681090\n",
      "\n",
      "[365 rows x 2 columns]\n"
     ]
    }
   ],
   "source": [
    "import requests\n",
    "import pandas as pd\n",
    "import os\n",
    "from datetime import datetime, timedelta\n",
    "from dotenv import load_dotenv\n",
    "\n",
    "# Load variables from .env file\n",
    "load_dotenv()\n",
    "\n",
    "# API key\n",
    "api_key = os.getenv(\"api_key\")\n",
    "\n",
    "# Start and end dates for the year 2023\n",
    "start_date = datetime(2023, 1, 1)\n",
    "end_date = datetime(2023, 12, 31)\n",
    "\n",
    "# Initialise an empty list to store the data\n",
    "data_list = []\n",
    "\n",
    "# Loop through each day of 2023\n",
    "current_date = start_date\n",
    "while current_date <= end_date:\n",
    "    # Format the current date\n",
    "    formatted_date = current_date.strftime('%Y/%m/%d')\n",
    "    # URL\n",
    "    url = f'https://v6.exchangerate-api.com/v6/api_key/history/AUD/{formatted_date}'\n",
    "    \n",
    "    # Make the API request\n",
    "    response = requests.get(url)\n",
    "    if response.status_code == 200:\n",
    "        # Parse the JSON response\n",
    "        data = response.json()\n",
    "        rate = data.get('conversion_rates', {}).get('USD')\n",
    "        if rate:\n",
    "            data_list.append({'date': formatted_date, 'rate': rate})\n",
    "    else:\n",
    "        print(f\"Failed to fetch data for {formatted_date}: {response.status_code}\")\n",
    "    \n",
    "    # Move to the next day\n",
    "    current_date += timedelta(days=1)\n",
    "\n",
    "# Create a DataFrame from the collected data\n",
    "df = pd.DataFrame(data_list)\n",
    "\n",
    "# Display the DataFrame\n",
    "print(df)\n",
    "\n"
   ]
  },
  {
   "cell_type": "code",
   "execution_count": null,
   "id": "8cd4f59d-a207-4493-8c64-c2a6ca2c3020",
   "metadata": {},
   "outputs": [],
   "source": []
  }
 ],
 "metadata": {
  "kernelspec": {
   "display_name": "Python 3 (ipykernel)",
   "language": "python",
   "name": "python3"
  },
  "language_info": {
   "codemirror_mode": {
    "name": "ipython",
    "version": 3
   },
   "file_extension": ".py",
   "mimetype": "text/x-python",
   "name": "python",
   "nbconvert_exporter": "python",
   "pygments_lexer": "ipython3",
   "version": "3.9.18"
  }
 },
 "nbformat": 4,
 "nbformat_minor": 5
}
